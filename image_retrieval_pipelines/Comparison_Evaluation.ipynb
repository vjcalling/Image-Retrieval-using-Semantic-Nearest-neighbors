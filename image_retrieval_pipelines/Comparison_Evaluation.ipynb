{
 "cells": [
  {
   "cell_type": "markdown",
   "metadata": {},
   "source": [
    "# Image Retrieval Performance Evaluation Notebook\n",
    "\n",
    "__Author:__ Vibhor Jain\n",
    "\n",
    "__Description:__ This Notebook is dedicated for Image Retrieval performance evaluation across different embeddings and distance metrics used in this research\n",
    "\n",
    "__Dated:__ 21st Mar 2020\n",
    "\n",
    "__Version:__ 1.0\n",
    "\n"
   ]
  },
  {
   "cell_type": "markdown",
   "metadata": {},
   "source": [
    "<img src=\"flowchart.png\">"
   ]
  },
  {
   "cell_type": "code",
   "execution_count": null,
   "metadata": {},
   "outputs": [],
   "source": []
  },
  {
   "cell_type": "code",
   "execution_count": null,
   "metadata": {},
   "outputs": [],
   "source": []
  },
  {
   "cell_type": "code",
   "execution_count": 1,
   "metadata": {},
   "outputs": [],
   "source": [
    "# ignoring all deprecated related warnings\n",
    "import warnings\n",
    "warnings.filterwarnings('ignore')\n",
    "\n",
    "import numpy as np\n",
    "import logging\n",
    "\n",
    "# disabling all tensorflow related logs\n",
    "logging.getLogger('tensorflow').disabled = True"
   ]
  },
  {
   "cell_type": "code",
   "execution_count": null,
   "metadata": {},
   "outputs": [],
   "source": []
  },
  {
   "cell_type": "code",
   "execution_count": 2,
   "metadata": {},
   "outputs": [],
   "source": [
    "# importing all internal utilities required\n",
    "from utils.sim_measures import SimMeasures\n",
    "from utils.embeddings import Embeddings\n",
    "from utils.image_retrieval import ImageRetrieval\n",
    "from utils.file_helper import load_query_to_img\n",
    "from utils.display_helper import display_stats"
   ]
  },
  {
   "cell_type": "code",
   "execution_count": 3,
   "metadata": {},
   "outputs": [
    {
     "data": {
      "text/html": [
       "<div>\n",
       "<style scoped>\n",
       "    .dataframe tbody tr th:only-of-type {\n",
       "        vertical-align: middle;\n",
       "    }\n",
       "\n",
       "    .dataframe tbody tr th {\n",
       "        vertical-align: top;\n",
       "    }\n",
       "\n",
       "    .dataframe thead th {\n",
       "        text-align: right;\n",
       "    }\n",
       "</style>\n",
       "<table border=\"1\" class=\"dataframe\">\n",
       "  <thead>\n",
       "    <tr style=\"text-align: right;\">\n",
       "      <th></th>\n",
       "      <th>query</th>\n",
       "      <th>img_name</th>\n",
       "    </tr>\n",
       "  </thead>\n",
       "  <tbody>\n",
       "    <tr>\n",
       "      <th>0</th>\n",
       "      <td>soiled color pony in the field</td>\n",
       "      <td>[78,152,161,67]</td>\n",
       "    </tr>\n",
       "    <tr>\n",
       "      <th>1</th>\n",
       "      <td>pic of food on the table</td>\n",
       "      <td>[135,1,12,186,9]</td>\n",
       "    </tr>\n",
       "  </tbody>\n",
       "</table>\n",
       "</div>"
      ],
      "text/plain": [
       "                            query          img_name\n",
       "0  soiled color pony in the field   [78,152,161,67]\n",
       "1        pic of food on the table  [135,1,12,186,9]"
      ]
     },
     "execution_count": 3,
     "metadata": {},
     "output_type": "execute_result"
    }
   ],
   "source": [
    "# loading query to images mapping file\n",
    "query_to_img = load_query_to_img()\n",
    "query_to_img.head(2)"
   ]
  },
  {
   "cell_type": "code",
   "execution_count": null,
   "metadata": {},
   "outputs": [],
   "source": []
  },
  {
   "cell_type": "code",
   "execution_count": 4,
   "metadata": {
    "scrolled": true
   },
   "outputs": [
    {
     "name": "stdout",
     "output_type": "stream",
     "text": [
      "USE embeddings with Cosine Distance metrics\n",
      "------------------------------------------------\n",
      "\n",
      "+-----------------------+---------------------------+----------------+\n",
      "| Total relevant images | Relevant images retrieved | Average Recall |\n",
      "+-----------------------+---------------------------+----------------+\n",
      "|          106          |            86.0           |      0.81      |\n",
      "+-----------------------+---------------------------+----------------+\n"
     ]
    }
   ],
   "source": [
    "# initializing image retrieval object for Universal Sentence Encoder embedding.\n",
    "ir_use = ImageRetrieval(Embeddings.USE)\n",
    "\n",
    "# predicting images using USE embedding and COSINE distance metrics.\n",
    "y_true, y_pred = ir_use.predict_img_indices(query_to_img, SimMeasures.COSINE)\n",
    "\n",
    "# generating per query recall list using the actual and predicted image lists.\n",
    "recall_use, image_count_use = ir_use.get_recall_list(y_true, y_pred)\n",
    "\n",
    "# multiplying recall for each query with number of images involved.\n",
    "# Say a query had a recall of 0.75 and 4 relevant images were expected, \n",
    "# that means, 3 out of 4 relevant images were retrieved. This way, \n",
    "# we'll get the overall relevant images retrieved for all queries.\n",
    "prod_use = [a*b for a,b in zip(recall_use,image_count_use)]\n",
    "\n",
    "# getting the total and relevant images expected for all queries.\n",
    "total_images_use = np.sum(image_count_use)\n",
    "total_relevant_images_retrieved_use = np.sum(prod_use)\n",
    "\n",
    "# printing all the metadata\n",
    "display_stats(\"USE embeddings with Cosine Distance metrics\", total_images_use, total_relevant_images_retrieved_use)\n"
   ]
  },
  {
   "cell_type": "code",
   "execution_count": 5,
   "metadata": {},
   "outputs": [
    {
     "name": "stdout",
     "output_type": "stream",
     "text": [
      "Vocab size : 100000\n",
      "InferSent embeddings with FAISS metrics\n",
      "------------------------------------------------\n",
      "\n",
      "+-----------------------+---------------------------+----------------+\n",
      "| Total relevant images | Relevant images retrieved | Average Recall |\n",
      "+-----------------------+---------------------------+----------------+\n",
      "|          106          |            66.0           |      0.62      |\n",
      "+-----------------------+---------------------------+----------------+\n"
     ]
    }
   ],
   "source": [
    "# initializing image retrieval object for Universal Sentence Encoder embedding.\n",
    "ir_infersent = ImageRetrieval(Embeddings.INFERSENT)\n",
    "\n",
    "# predicting images using INFERSENT embedding and FAISS distance metrics.\n",
    "y_true, y_pred = ir_infersent.predict_img_indices(query_to_img, SimMeasures.FAISS)\n",
    "\n",
    "# generating per query recall list using the actual and predicted image lists.\n",
    "recall_infersent, image_count_infersent = ir_infersent.get_recall_list(y_true, y_pred)\n",
    "\n",
    "# multiplying recall for each query with number of images involved.\n",
    "prod_infersent = [a*b for a,b in zip(recall_infersent,image_count_infersent)]\n",
    "\n",
    "# getting the total and relevant images expected for all queries.\n",
    "total_images_infersent = np.sum(image_count_infersent)\n",
    "total_relevant_images_retrieved_faiss = np.sum(prod_infersent)\n",
    "\n",
    "# printing all the metadata\n",
    "display_stats(\"InferSent embeddings with FAISS metrics\", total_images_infersent, total_relevant_images_retrieved_faiss)\n"
   ]
  },
  {
   "cell_type": "code",
   "execution_count": null,
   "metadata": {},
   "outputs": [],
   "source": []
  },
  {
   "cell_type": "code",
   "execution_count": 6,
   "metadata": {},
   "outputs": [
    {
     "name": "stdout",
     "output_type": "stream",
     "text": [
      "InferSent embeddings with Cosine Distance metrics\n",
      "------------------------------------------------\n",
      "\n",
      "+-----------------------+---------------------------+----------------+\n",
      "| Total relevant images | Relevant images retrieved | Average Recall |\n",
      "+-----------------------+---------------------------+----------------+\n",
      "|          106          |            75.0           |      0.71      |\n",
      "+-----------------------+---------------------------+----------------+\n"
     ]
    }
   ],
   "source": [
    "\n",
    "# predicting images using INFERSENT embedding and COSINE distance metrics.\n",
    "y_true, y_pred = ir_infersent.predict_img_indices(query_to_img, SimMeasures.COSINE)\n",
    "\n",
    "# generating per query recall list using the actual and predicted image lists.\n",
    "recall_infersent, image_count_infersent = ir_infersent.get_recall_list(y_true, y_pred)\n",
    "\n",
    "# multiplying recall for each query with number of images involved.\n",
    "prod_infersent = [a*b for a,b in zip(recall_infersent,image_count_infersent)]\n",
    "\n",
    "# getting the total and relevant images expected for all queries.\n",
    "total_images_infersent = np.sum(image_count_infersent)\n",
    "total_relevant_images_retrieved_infersent = np.sum(prod_infersent)\n",
    "\n",
    "# printing all the metadata\n",
    "display_stats(\"InferSent embeddings with Cosine Distance metrics\", total_images_infersent, total_relevant_images_retrieved_infersent)\n"
   ]
  },
  {
   "cell_type": "code",
   "execution_count": null,
   "metadata": {},
   "outputs": [],
   "source": []
  },
  {
   "cell_type": "markdown",
   "metadata": {},
   "source": [
    "# Overall Comparison"
   ]
  },
  {
   "cell_type": "code",
   "execution_count": 7,
   "metadata": {},
   "outputs": [
    {
     "name": "stdout",
     "output_type": "stream",
     "text": [
      "USE embeddings with Cosine Distance metrics\n",
      "------------------------------------------------\n",
      "\n",
      "+-----------------------+---------------------------+----------------+\n",
      "| Total relevant images | Relevant images retrieved | Average Recall |\n",
      "+-----------------------+---------------------------+----------------+\n",
      "|          106          |            86.0           |      0.81      |\n",
      "+-----------------------+---------------------------+----------------+\n",
      "InferSent embeddings with FAISS metrics\n",
      "------------------------------------------------\n",
      "\n",
      "+-----------------------+---------------------------+----------------+\n",
      "| Total relevant images | Relevant images retrieved | Average Recall |\n",
      "+-----------------------+---------------------------+----------------+\n",
      "|          106          |            66.0           |      0.62      |\n",
      "+-----------------------+---------------------------+----------------+\n",
      "InferSent embeddings with Cosine Distance metrics\n",
      "------------------------------------------------\n",
      "\n",
      "+-----------------------+---------------------------+----------------+\n",
      "| Total relevant images | Relevant images retrieved | Average Recall |\n",
      "+-----------------------+---------------------------+----------------+\n",
      "|          106          |            75.0           |      0.71      |\n",
      "+-----------------------+---------------------------+----------------+\n"
     ]
    }
   ],
   "source": [
    "\n",
    "display_stats(\"USE embeddings with Cosine Distance metrics\", total_images_use, total_relevant_images_retrieved_use)\n",
    "\n",
    "\n",
    "display_stats(\"InferSent embeddings with FAISS metrics\", total_images_infersent, total_relevant_images_retrieved_faiss)\n",
    "\n",
    "\n",
    "display_stats(\"InferSent embeddings with Cosine Distance metrics\", total_images_infersent, total_relevant_images_retrieved_infersent)\n"
   ]
  },
  {
   "cell_type": "code",
   "execution_count": null,
   "metadata": {},
   "outputs": [],
   "source": []
  },
  {
   "cell_type": "code",
   "execution_count": 8,
   "metadata": {},
   "outputs": [
    {
     "data": {
      "image/png": "[encoded data removed]",
      "text/plain": [
       "<Figure size 432x288 with 1 Axes>"
      ]
     },
     "metadata": {
      "needs_background": "light"
     },
     "output_type": "display_data"
    }
   ],
   "source": [
    "import matplotlib.pyplot as plt\n",
    "fig = plt.figure()\n",
    "ax = fig.add_axes([0,0,1,1])\n",
    "pipelines = ['InferSent with FAISS', 'InferSent with Cosine Dist', 'USE with Cosine Dist']\n",
    "recall = [total_relevant_images_retrieved_faiss, total_relevant_images_retrieved_infersent, total_relevant_images_retrieved_use]\n",
    "ax.bar(pipelines,recall)\n",
    "plt.show()"
   ]
  },
  {
   "cell_type": "code",
   "execution_count": null,
   "metadata": {},
   "outputs": [],
   "source": []
  },
  {
   "cell_type": "code",
   "execution_count": null,
   "metadata": {},
   "outputs": [],
   "source": []
  }
 ],
 "metadata": {
  "kernelspec": {
   "display_name": "Python 3",
   "language": "python",
   "name": "python3"
  },
  "language_info": {
   "codemirror_mode": {
    "name": "ipython",
    "version": 3
   },
   "file_extension": ".py",
   "mimetype": "text/x-python",
   "name": "python",
   "nbconvert_exporter": "python",
   "pygments_lexer": "ipython3",
   "version": "3.7.4"
  }
 },
 "nbformat": 4,
 "nbformat_minor": 2
}
