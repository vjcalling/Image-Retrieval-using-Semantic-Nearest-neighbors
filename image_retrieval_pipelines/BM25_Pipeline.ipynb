{
 "cells": [
  {
   "cell_type": "markdown",
   "metadata": {},
   "source": [
    "\n",
    "# Image Retrieval Performance Evaluation Notebook for BM25\n",
    "__Author__: Vibhor Jain\n",
    "\n",
    "__Description__: This Notebook is dedicated for Image Retrieval performance evaluation for BM25. More about BM25 [here](https://en.wikipedia.org/wiki/Okapi_BM25)\n",
    "\n",
    "__Dated__: 29th Apr 2020\n",
    "\n",
    "Version: 1.0"
   ]
  },
  {
   "cell_type": "code",
   "execution_count": null,
   "metadata": {},
   "outputs": [],
   "source": []
  },
  {
   "cell_type": "code",
   "execution_count": 2,
   "metadata": {},
   "outputs": [],
   "source": [
    "import numpy as np\n",
    "from rank_bm25 import BM25Okapi\n",
    "import pandas as pd"
   ]
  },
  {
   "cell_type": "code",
   "execution_count": 12,
   "metadata": {},
   "outputs": [],
   "source": [
    "from utils import display_helper"
   ]
  },
  {
   "cell_type": "code",
   "execution_count": null,
   "metadata": {},
   "outputs": [],
   "source": []
  },
  {
   "cell_type": "code",
   "execution_count": null,
   "metadata": {},
   "outputs": [],
   "source": []
  },
  {
   "cell_type": "code",
   "execution_count": 13,
   "metadata": {},
   "outputs": [],
   "source": [
    "# this function extracts the image names from the mapping list\n",
    "# and creates a integer list.\n",
    "def get_expected_indices(expected_idx):\n",
    "    expected_idx = expected_idx.strip('][').split(',')\n",
    "    expected_idx = list(map(int, expected_idx))    \n",
    "    return expected_idx\n",
    "\n",
    "\n",
    "# this function takes 2 lists (y_true, y_pred) and returns the\n",
    "# recall for each query along with the image count.\n",
    "def get_recall_list(expected_idx_list, received_idx_list):\n",
    "    recall_score_list = []\n",
    "    relevant_image_count = []\n",
    "    total_queries = len(expected_idx_list)\n",
    "    for i in range(total_queries):\n",
    "        y_true = expected_idx_list[i]\n",
    "        y_pred = received_idx_list[i]\n",
    "        recall = len(list(set(y_true) & set(y_pred)))/len(y_true)\n",
    "        \n",
    "        recall_score_list.append(recall)\n",
    "        relevant_image_count.append(len(y_true))\n",
    "    \n",
    "    return recall_score_list, relevant_image_count"
   ]
  },
  {
   "cell_type": "code",
   "execution_count": null,
   "metadata": {},
   "outputs": [],
   "source": []
  },
  {
   "cell_type": "code",
   "execution_count": 6,
   "metadata": {},
   "outputs": [],
   "source": [
    "# loading the captions and the query mapping\n",
    "captions_df = pd.read_csv('./data/captions.txt')\n",
    "query_df = pd.read_csv('./data/query_2_img_idx_mapping.txt', sep=';')"
   ]
  },
  {
   "cell_type": "code",
   "execution_count": 14,
   "metadata": {},
   "outputs": [],
   "source": [
    "# initializing the BM25 model\n",
    "corpus = captions_df['caption'].tolist()\n",
    "tokenized_corpus = [doc.split(\" \") for doc in corpus]\n",
    "bm25 = BM25Okapi(tokenized_corpus)"
   ]
  },
  {
   "cell_type": "code",
   "execution_count": null,
   "metadata": {},
   "outputs": [],
   "source": []
  },
  {
   "cell_type": "code",
   "execution_count": 15,
   "metadata": {},
   "outputs": [],
   "source": [
    "predicted_idx_list, expected_idx_list = [], []\n",
    "\n",
    "for count, query in enumerate(query_df['query']):\n",
    "    \n",
    "    expected_idx, predicted_idx = [], []\n",
    "    expected_idx = get_expected_indices(query_df.loc[count][1])\n",
    "    expected_idx_list.append(expected_idx)\n",
    "    \n",
    "    n = len(expected_idx)\n",
    "    tokenized_query = query.split(\" \")\n",
    "    res = bm25.get_top_n(tokenized_query, corpus, n)\n",
    "    \n",
    "    predicted_idx = [display_helper.find_img_idx(captions_df[captions_df['caption'] == res[k]].reset_index()['image_files'][0]) for k in range(n)]\n",
    "    predicted_idx_list.append(predicted_idx)\n",
    "    \n",
    "    "
   ]
  },
  {
   "cell_type": "code",
   "execution_count": 16,
   "metadata": {},
   "outputs": [],
   "source": [
    "recall_bm25, image_count_bm25 = get_recall_list(expected_idx_list, predicted_idx_list)"
   ]
  },
  {
   "cell_type": "code",
   "execution_count": 17,
   "metadata": {},
   "outputs": [
    {
     "name": "stdout",
     "output_type": "stream",
     "text": [
      "BM25 pipeline\n",
      "------------------------------------------------\n",
      "\n",
      "+-----------------------+---------------------------+----------------+\n",
      "| Total relevant images | Relevant images retrieved | Average Recall |\n",
      "+-----------------------+---------------------------+----------------+\n",
      "|          106          |            33.0           |      0.31      |\n",
      "+-----------------------+---------------------------+----------------+\n"
     ]
    }
   ],
   "source": [
    "prod_bm25 = [a*b for a,b in zip(recall_bm25,image_count_bm25)]\n",
    "\n",
    "# getting the total and relevant images expected for all queries.\n",
    "total_images_bm25 = np.sum(image_count_bm25)\n",
    "total_relevant_images_retrieved_bm25 = np.sum(prod_bm25)\n",
    "\n",
    "# printing all the metadata\n",
    "display_helper.display_stats(\"BM25 pipeline\", total_images_bm25, total_relevant_images_retrieved_bm25)"
   ]
  },
  {
   "cell_type": "code",
   "execution_count": null,
   "metadata": {},
   "outputs": [],
   "source": []
  },
  {
   "cell_type": "code",
   "execution_count": null,
   "metadata": {},
   "outputs": [],
   "source": []
  },
  {
   "cell_type": "code",
   "execution_count": null,
   "metadata": {},
   "outputs": [],
   "source": []
  },
  {
   "cell_type": "code",
   "execution_count": null,
   "metadata": {},
   "outputs": [],
   "source": []
  },
  {
   "cell_type": "code",
   "execution_count": null,
   "metadata": {},
   "outputs": [],
   "source": []
  }
 ],
 "metadata": {
  "kernelspec": {
   "display_name": "Python 3",
   "language": "python",
   "name": "python3"
  },
  "language_info": {
   "codemirror_mode": {
    "name": "ipython",
    "version": 3
   },
   "file_extension": ".py",
   "mimetype": "text/x-python",
   "name": "python",
   "nbconvert_exporter": "python",
   "pygments_lexer": "ipython3",
   "version": "3.7.4"
  }
 },
 "nbformat": 4,
 "nbformat_minor": 2
}
